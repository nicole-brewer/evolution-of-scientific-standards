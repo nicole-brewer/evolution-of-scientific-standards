{
 "cells": [
  {
   "cell_type": "markdown",
   "id": "97d4326f-98e1-46bc-9279-e7cfe60bb72e",
   "metadata": {},
   "source": [
    "---\n",
    "title: \"CAS 570 Proposal\"\n",
    "author: \"Nicole Brewer\"\n",
    "toc: false\n",
    "number-sections: false\n",
    "highlight-style: pygments\n",
    "format:\n",
    "  html: \n",
    "    code-fold: true\n",
    "    html-math-method: katex\n",
    "  pdf:\n",
    "    geometry: \n",
    "      - top=30mm\n",
    "      - left=30mm\n",
    "jupyter: python3\n",
    "---"
   ]
  },
  {
   "cell_type": "code",
   "execution_count": 1,
   "id": "f7a49826-5cf4-49b8-9f2b-4fe75384543b",
   "metadata": {},
   "outputs": [],
   "source": [
    "class Publication():\n",
    "    \n",
    "    def __init__(self, id, doi, code_avail, authors, documentation, platforms, sponsors):\n",
    "        self.id = id\n",
    "        self.doi = doi\n",
    "        self.code_avail = code_avail\n",
    "        self.authors = authors\n",
    "        self.documentation = documentation\n",
    "        self.platforms = platforms\n",
    "        self.sponsors = sponsors\n",
    "        self.eid = None # elsi"
   ]
  },
  {
   "cell_type": "code",
   "execution_count": 2,
   "id": "7e15ec49",
   "metadata": {},
   "outputs": [],
   "source": [
    "import openpyxl\n",
    "\n",
    "# Open Workbook\n",
    "wb = openpyxl.load_workbook(filename='Catalogdatabase-till2018b.xlsx', data_only=True)"
   ]
  },
  {
   "cell_type": "code",
   "execution_count": 45,
   "id": "d7c854c2",
   "metadata": {},
   "outputs": [],
   "source": [
    "sheet = wb['publication']\n",
    "ncol = sheet.max_column  \n",
    "nrow = sheet.max_row - 2 # there is an extraneous cell at the bottom of the sheet that gives us two extra columns"
   ]
  },
  {
   "cell_type": "code",
   "execution_count": 46,
   "id": "9255ef04",
   "metadata": {},
   "outputs": [
    {
     "data": {
      "text/plain": [
       "[(1, 'id'),\n",
       " (2, 'citations'),\n",
       " (3, 'mod'),\n",
       " (4, 'title'),\n",
       " (5, 'abstract'),\n",
       " (6, 'short_title'),\n",
       " (7, 'contact_email'),\n",
       " (8, 'email_sent_count'),\n",
       " (9, 'contact_author_name'),\n",
       " (10, 'is_primary'),\n",
       " (11, 'doi'),\n",
       " (12, 'series_text'),\n",
       " (13, 'series_title'),\n",
       " (14, 'series'),\n",
       " (15, 'issue'),\n",
       " (16, 'volume'),\n",
       " (17, 'pages'),\n",
       " (18, 'author_names'),\n",
       " (19, 'number authors'),\n",
       " (20, 'year_published'),\n",
       " (21, 'container__issn'),\n",
       " (22, 'container__name'),\n",
       " (23, 'code_archival_status'),\n",
       " (24, 'code'),\n",
       " (25, 'Documentation (AORML)'),\n",
       " (26, 'Documentation (Flow charts)'),\n",
       " (27, 'Documentation (Mathematical description)'),\n",
       " (28, 'Documentation (None)'),\n",
       " (29, 'Documentation (ODD)'),\n",
       " (30, 'Documentation (Ontologies)'),\n",
       " (31, 'Documentation (Other Narrative)'),\n",
       " (32, 'Documentation (Pseudocode)'),\n",
       " (33, 'Documentation (UML)'),\n",
       " (34, 'Platform (.NET)'),\n",
       " (35, 'Platform (ALMaSS)'),\n",
       " (36, 'Platform (Agent Analyst)'),\n",
       " (37, 'Platform (AnyLogic)'),\n",
       " (38, 'Platform (ArcGIS)'),\n",
       " (39, 'Platform (C#)'),\n",
       " (40, 'Platform (C)'),\n",
       " (41, 'Platform (C++)'),\n",
       " (42, 'Platform (CAPSIS)'),\n",
       " (43, 'Platform (CORMAS)'),\n",
       " (44, 'Platform (Delphi)'),\n",
       " (45, 'Platform (Eclipse)'),\n",
       " (46, 'Platform (Envision)'),\n",
       " (47, 'Platform (FLAME)'),\n",
       " (48, 'Platform (Fortran)'),\n",
       " (49,\n",
       "  'Platform (Framework for Reconstructing Epidemiological Dynamics (FRED))'),\n",
       " (50, 'Platform (GAMA)'),\n",
       " (51, 'Platform (HexSim)'),\n",
       " (52, 'Platform (INDISIM)'),\n",
       " (53, 'Platform (Ichthyop)'),\n",
       " (54, 'Platform (Jason)'),\n",
       " (55, 'Platform (Java Agent Development Environment (JADE))'),\n",
       " (56, 'Platform (Java)'),\n",
       " (57, 'Platform (JavaScript)'),\n",
       " (58, 'Platform (LSD (Laboratory for Simulation Development))'),\n",
       " (59, 'Platform (MASON)'),\n",
       " (60, 'Platform (MATLAB)'),\n",
       " (61, 'Platform (MATSim)'),\n",
       " (62, 'Platform (MORPH)'),\n",
       " (63, 'Platform (Mathematica)'),\n",
       " (64, 'Platform (Mathematical Programming-based Multi-Agent System (MP-MAS))'),\n",
       " (65, 'Platform (Microsoft Excel)'),\n",
       " (66, 'Platform (Microsoft Visual Basic)'),\n",
       " (67, 'Platform (Microsoft Visual Studio)'),\n",
       " (68, 'Platform (NetLogo)'),\n",
       " (69, 'Platform (OSMOSE)'),\n",
       " (70, 'Platform (Objective C)'),\n",
       " (71, 'Platform (Pascal)'),\n",
       " (72, 'Platform (Python)'),\n",
       " (73, 'Platform (R)'),\n",
       " (74, 'Platform (Repast)'),\n",
       " (75, 'Platform (SORTIE)'),\n",
       " (76, 'Platform (STELLA)'),\n",
       " (77, 'Platform (Scilab)'),\n",
       " (78, 'Platform (Smalltalk)'),\n",
       " (79, 'Platform (Statistical Analysis Software (SAS))'),\n",
       " (80, 'Platform (Swarm)'),\n",
       " (81, 'Platform (VISSIM)'),\n",
       " (82, 'Platform (VORTEX)'),\n",
       " (83, 'Platform (Vensim)'),\n",
       " (84, 'Platform Other'),\n",
       " (85, 'Sponsor (Academy of Finland)'),\n",
       " (86,\n",
       "  'Sponsor (Australian National Health and Medical Research Council (NHMRC))'),\n",
       " (87, 'Sponsor (Australian Research Council (ARC))'),\n",
       " (88, 'Sponsor (Austrian Science Fund (FWF))'),\n",
       " (89, 'Sponsor (Bill and Melinda Gates Foundation)'),\n",
       " (90,\n",
       "  'Sponsor (Biotechnology and Biological Sciences Research Council (BBSRC))'),\n",
       " (91, 'Sponsor (Brazilian Ministry of Education (CAPES))'),\n",
       " (92,\n",
       "  'Sponsor (Brazilian National Council for Scientific and Technological Development (CNPq))'),\n",
       " (93, 'Sponsor (Chinese National Natural Science Foundation)'),\n",
       " (94, 'Sponsor (Electric Power Research Institute (EPRI))'),\n",
       " (95, 'Sponsor (European Research Council (ERC))'),\n",
       " (96, 'Sponsor (European Union)'),\n",
       " (97, 'Sponsor (Flanders Research Foundation)'),\n",
       " (98, 'Sponsor (French Ministries)'),\n",
       " (99, 'Sponsor (French National Center for Scientific Research (CNRS))'),\n",
       " (100, 'Sponsor (French National Research Agency (ANR))'),\n",
       " (101, 'Sponsor (German Federal Ministry of Education and Research (BMBF))'),\n",
       " (102,\n",
       "  'Sponsor (German Research Foundation (Deutsche Forschungsgemeinschaft, DFG))'),\n",
       " (103, 'Sponsor (Israeli National Science Foundation)'),\n",
       " (104, 'Sponsor (James S. McDonnell Foundation)'),\n",
       " (105, 'Sponsor (Japanese Society for the Promotion of Science (JSPS))'),\n",
       " (106, 'Sponsor (Korean National  Research Foundation (NRF))'),\n",
       " (107, 'Sponsor (Leverhulme Trust)'),\n",
       " (108, 'Sponsor (National Basic Research Program of China)'),\n",
       " (109, 'Sponsor (National Science Council of Taiwan)'),\n",
       " (110,\n",
       "  'Sponsor (National Science and Engineering Research Council of Canada (NSERC))'),\n",
       " (111, 'Sponsor (Netherlands Organization for Scientific Research (NWO))'),\n",
       " (112, 'Sponsor (Norwegian Research Council (NRF))'),\n",
       " (113, 'Sponsor (Portuguese Foundation for Science and Technology (FCT))'),\n",
       " (114, 'Sponsor (Royal Society)'),\n",
       " (115, 'Sponsor (Spanish Ministries)'),\n",
       " (116, 'Sponsor (Spanish Ministry of Economy and Competitiveness (MINECO))'),\n",
       " (117, 'Sponsor (Spanish Ministry of Science and Innovation (MICINN))'),\n",
       " (118, 'Sponsor (Swedish Research Council)'),\n",
       " (119, 'Sponsor (Swiss National Science Foundation (SNSF))'),\n",
       " (120, 'Sponsor (United Kingdom Economic and Social Research Council (ESRC))'),\n",
       " (121,\n",
       "  'Sponsor (United Kingdom Engineering and Physical Sciences Research Council (EPSRC))'),\n",
       " (122, 'Sponsor (United Kingdom Natural Environment Research Council (NERC))'),\n",
       " (123, 'Sponsor (United States Air Force)'),\n",
       " (124, 'Sponsor (United States Army)'),\n",
       " (125, 'Sponsor (United States Department of Agriculture (USDA))'),\n",
       " (126, 'Sponsor (United States Department of Energy (DOE))'),\n",
       " (127, 'Sponsor (United States Environmental Protection Agency (EPA))'),\n",
       " (128, 'Sponsor (United States Geological Survey (USGS))'),\n",
       " (129,\n",
       "  'Sponsor (United States National Aeronautics and Space Administration (NASA))'),\n",
       " (130, 'Sponsor (United States National Institutes of Health (NIH))'),\n",
       " (131,\n",
       "  'Sponsor (United States National Oceanic and Atmospheric Administration (NOAA))'),\n",
       " (132, 'Sponsor (United States National Science Foundation (NSF))'),\n",
       " (133, 'Sponsor (United States Office of Naval Research (ONR))'),\n",
       " (134, 'Sponsor (Wellcome Trust)'),\n",
       " (135, 'Sponsor Other'),\n",
       " (136, 'platformentioned'),\n",
       " (137, 'sponsormentioned')]"
      ]
     },
     "execution_count": 46,
     "metadata": {},
     "output_type": "execute_result"
    }
   ],
   "source": [
    "display_through = 11\n",
    "[(i, sheet.cell(row = 1, column = i).value) for i in range(1, print_through)]"
   ]
  },
  {
   "cell_type": "code",
   "execution_count": 47,
   "id": "eb5d70d0",
   "metadata": {},
   "outputs": [],
   "source": [
    "DOC_COLS = (25, 34)\n",
    "PLAT_COLS = (34, 85)\n",
    "SPON_COLS = (85, 136)\n",
    "STRING_COLS = (1, 11) # id, doi\n",
    "BOOL_COLS = (24, ) # code_avail\n",
    "AUTH_COL = 18"
   ]
  },
  {
   "cell_type": "code",
   "execution_count": 48,
   "id": "a1cc0189",
   "metadata": {},
   "outputs": [],
   "source": [
    "# remove extra text surrounding type names\n",
    "# ex 'Documentation (UML)' -> 'UML'\n",
    "document_types = [sheet.cell(row = 1, column = i).value for i in range(*DOC_COLS)]\n",
    "document_types = {i: s[s.find(\"(\")+1:s.rfind(\")\")] for i, s in enumerate(document_types)} \n",
    "platform_types = [sheet.cell(row = 1, column = i).value for i in range(*PLAT_COLS)]\n",
    "platform_types = {i: s[s.find(\"(\")+1:s.rfind(\")\")] for i, s in enumerate(platform_types)}\n",
    "sponsor_types = [sheet.cell(row = 1, column = i).value for i in range(*SPON_COLS)]\n",
    "sponsor_types = {i: s[s.find(\"(\")+1:s.rfind(\")\")] for i, s in enumerate(sponsor_types)}"
   ]
  },
  {
   "cell_type": "code",
   "execution_count": 49,
   "id": "1a03d141-224d-4192-853f-38764bb3ee27",
   "metadata": {},
   "outputs": [],
   "source": [
    "def createTypeListFromBinaryEntries(indicies, types):\n",
    "    ret = [bool(sheet.cell(row = i, column = j).value) for j in range(*indicies)]\n",
    "    ret = [types[i] for i, present in enumerate(ret) if present]\n",
    "    if all(val is None for val in ret):\n",
    "        return None\n",
    "    else:\n",
    "        return ret"
   ]
  },
  {
   "cell_type": "code",
   "execution_count": 50,
   "id": "c801f80d-f7db-46e5-97c0-9b5a27e9484a",
   "metadata": {},
   "outputs": [],
   "source": [
    "# turn the string representation of a list into an actual list\n",
    "# \"['Geoff Podger', ' Robert Power', ' Shane Seaton', ' Ang Yang']\" -> ['Geoff Podger', ' Robert Power', ' Shane Seaton', ' Ang Yang']\n",
    "def createAuthorList(row):\n",
    "    authors_string = sheet.cell(row = row, column = AUTH_COL).value\n",
    "    if not authors_string:\n",
    "        return None\n",
    "    authors_string = authors_string.replace(\"'\", \"\").strip('\"[] ')\n",
    "    if len(authors_string) > 0:\n",
    "        return authors_string.split(',')\n",
    "    else:\n",
    "        return 0"
   ]
  },
  {
   "cell_type": "code",
   "execution_count": 51,
   "id": "ccd58382",
   "metadata": {},
   "outputs": [],
   "source": [
    "publications = []\n",
    "total_none_values = [0 for i in range(0, len(STRING_COLS) + len(BOOL_COLS) + 4)] # 4 = authors + doc + plat + sponsor\n",
    "for i in range(2, nrow + 1):\n",
    "    values = [sheet.cell(row = i, column = j).value for j in STRING_COLS]\n",
    "    values.append([bool(sheet.cell(row = i, column = j).value) for j in BOOL_COLS])\n",
    "    authors = createAuthorList(i)\n",
    "    d = createTypeListFromBinaryEntries(DOC_COLS, document_types)\n",
    "    p = createTypeListFromBinaryEntries(PLAT_COLS, platform_types)\n",
    "    s = createTypeListFromBinaryEntries(SPON_COLS, sponsor_types)\n",
    "    total_none_values = [total_none_values[j] if param else total_none_values[j] + 1 for j, param in enumerate([*values, authors, d, p, s])]\n",
    "    if values[0]:\n",
    "        publications.append(Publication(*values, authors, d, p, s))"
   ]
  },
  {
   "cell_type": "code",
   "execution_count": 52,
   "id": "b1c55f18-37cb-4f9c-9637-55f07cc5caed",
   "metadata": {},
   "outputs": [
    {
     "data": {
      "text/plain": [
       "[0, 504, 0, 24, 0, 4284, 3084]"
      ]
     },
     "execution_count": 52,
     "metadata": {},
     "output_type": "execute_result"
    }
   ],
   "source": [
    "total_none_values\n",
    "# id, doi, code_avail, authors, documentation, platform, sponsor"
   ]
  },
  {
   "cell_type": "code",
   "execution_count": 53,
   "id": "5a911b6c-41c4-47cf-a6bd-6917e9adfe2e",
   "metadata": {},
   "outputs": [
    {
     "data": {
      "text/plain": [
       "7501"
      ]
     },
     "execution_count": 53,
     "metadata": {},
     "output_type": "execute_result"
    }
   ],
   "source": [
    "nrow"
   ]
  },
  {
   "cell_type": "code",
   "execution_count": 54,
   "id": "9b3ab180",
   "metadata": {},
   "outputs": [
    {
     "name": "stdout",
     "output_type": "stream",
     "text": [
      "Scopus API key found...\n"
     ]
    }
   ],
   "source": [
    "# use scopus to get citation data\n",
    "from os.path import isfile\n",
    "\n",
    "key_present = isfile(\"SCOPUS_API_KEY\")\n",
    "\n",
    "if key_present: \n",
    "    print(\"Scopus API key found...\")\n",
    "    with open(\"SCOPUS_API_KEY\", \"r+\") as file:\n",
    "        api_key = file.readline()"
   ]
  },
  {
   "cell_type": "code",
   "execution_count": 74,
   "id": "0aa08193-5be8-493d-83fb-dae2dc581971",
   "metadata": {},
   "outputs": [
    {
     "data": {
      "text/plain": [
       "6840"
      ]
     },
     "execution_count": 74,
     "metadata": {},
     "output_type": "execute_result"
    }
   ],
   "source": [
    "import requests\n",
    "\n",
    "num_found_on_scopus = 0\n",
    "for publication in publications:\n",
    "    if publication.doi:\n",
    "        r = requests.get('https://api.elsevier.com/content/abstract/doi/' + publication.doi ,params={'apiKey': api_key, 'httpAccept': 'application/json'} )\n",
    "        if r.status_code == 200:\n",
    "            num_found_on_scopus += 1\n",
    "            # add print for every 50 or so additions\n",
    "        \n",
    "num_found_on_scopus"
   ]
  },
  {
   "cell_type": "code",
   "execution_count": null,
   "id": "af4f5f60-73fb-45a7-8d21-1891b8ffa752",
   "metadata": {},
   "outputs": [],
   "source": [
    "import pickle\n",
    "\n",
    "with open('publication_nodes.pickle', 'wb') as f:\n",
    "    pickle.dump(data, f, pickle.HIGHEST_PROTOCOL)"
   ]
  }
 ],
 "metadata": {
  "kernelspec": {
   "display_name": "Python 3 (ipykernel)",
   "language": "python",
   "name": "python3"
  },
  "language_info": {
   "codemirror_mode": {
    "name": "ipython",
    "version": 3
   },
   "file_extension": ".py",
   "mimetype": "text/x-python",
   "name": "python",
   "nbconvert_exporter": "python",
   "pygments_lexer": "ipython3",
   "version": "3.8.13"
  }
 },
 "nbformat": 4,
 "nbformat_minor": 5
}
