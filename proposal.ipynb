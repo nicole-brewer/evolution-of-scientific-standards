{
 "cells": [
  {
   "cell_type": "markdown",
   "id": "97d4326f-98e1-46bc-9279-e7cfe60bb72e",
   "metadata": {},
   "source": [
    "---\n",
    "title: \"CAS 570 Proposal\"\n",
    "author: \"Nicole Brewer\"\n",
    "toc: false\n",
    "number-sections: false\n",
    "highlight-style: pygments\n",
    "format:\n",
    "  html: \n",
    "    code-fold: true\n",
    "    html-math-method: katex\n",
    "  pdf:\n",
    "    geometry: \n",
    "      - top=30mm\n",
    "      - left=30mm\n",
    "jupyter: python3\n",
    "---"
   ]
  },
  {
   "cell_type": "code",
   "execution_count": 1,
   "id": "f7a49826-5cf4-49b8-9f2b-4fe75384543b",
   "metadata": {},
   "outputs": [],
   "source": [
    "class Publication():\n",
    "    \n",
    "    def __init__(self, id, doi, code_avail, documentation, platforms, sponsors):\n",
    "        self.id = id\n",
    "        self.doi = doi\n",
    "        self.code_avail = code_avail\n",
    "        self.documentation = documentation\n",
    "        self.platforms = platforms\n",
    "        self.sponsors = sponsors"
   ]
  },
  {
   "cell_type": "code",
   "execution_count": null,
   "id": "7e15ec49",
   "metadata": {},
   "outputs": [],
   "source": [
    "import openpyxl\n",
    "\n",
    "# Open Workbook\n",
    "wb = openpyxl.load_workbook(filename='Catalogdatabase-till2018b.xlsx', data_only=True)"
   ]
  },
  {
   "cell_type": "code",
   "execution_count": null,
   "id": "d7c854c2",
   "metadata": {},
   "outputs": [],
   "source": [
    "sheet = wb['publication']\n",
    "ncol = sheet.max_column\n",
    "nrow = sheet.max_row"
   ]
  },
  {
   "cell_type": "code",
   "execution_count": null,
   "id": "9255ef04",
   "metadata": {},
   "outputs": [],
   "source": [
    "[(i, sheet.cell(row = 1, column = i).value) for i in range(1, ncol)]"
   ]
  },
  {
   "cell_type": "code",
   "execution_count": null,
   "id": "eb5d70d0",
   "metadata": {},
   "outputs": [],
   "source": [
    "doc_i = (25, 34)\n",
    "plat_i = (34, 85)\n",
    "spon_i = (85, 136)\n",
    "info_i = (1, 11, 24) # id, doi, code_avail"
   ]
  },
  {
   "cell_type": "code",
   "execution_count": null,
   "id": "a1cc0189",
   "metadata": {},
   "outputs": [],
   "source": [
    "document_types = [sheet.cell(row = 1, column = i).value for i in range(*doc_i)]\n",
    "document_types = {i: s[s.find(\"(\")+1:s.rfind(\")\")] for i, s in enumerate(document_types)}\n",
    "platform_types = [sheet.cell(row = 1, column = i).value for i in range(*plat_i)]\n",
    "platform_types = {i: s[s.find(\"(\")+1:s.rfind(\")\")] for i, s in enumerate(platform_types)}\n",
    "sponsor_types = [sheet.cell(row = 1, column = i).value for i in range(*spon_i)]\n",
    "sponsor_types = {i: s[s.find(\"(\")+1:s.rfind(\")\")] for i, s in enumerate(sponsor_types)}"
   ]
  },
  {
   "cell_type": "code",
   "execution_count": null,
   "id": "ccd58382",
   "metadata": {},
   "outputs": [],
   "source": [
    "publications = []\n",
    "for i in range(2, nrow + 1):\n",
    "    info = [sheet.cell(row = i, column = j).value for j in info_i]\n",
    "    info[2] = bool(info[2])\n",
    "    d = [bool(sheet.cell(row = i, column = j).value) for j in range(*doc_i)]\n",
    "    d = [document_types[i] for i, present in enumerate(d) if present]\n",
    "    p = [bool(sheet.cell(row = i, column = j).value) for j in range(*plat_i)]\n",
    "    p = [platform_types[i] for i, present in enumerate(p) if present]\n",
    "    s = [bool(sheet.cell(row = i, column = j).value) for j in range(*spon_i)]\n",
    "    s = [sponsor_types[i] for i, present in enumerate(s) if present]\n",
    "    publications.append(Publication(*info, d, p, s))"
   ]
  },
  {
   "cell_type": "code",
   "execution_count": null,
   "id": "9b3ab180",
   "metadata": {},
   "outputs": [],
   "source": [
    "# use scopus to get citation data"
   ]
  },
  {
   "cell_type": "code",
   "execution_count": null,
   "id": "a6aa497f",
   "metadata": {},
   "outputs": [],
   "source": [
    "# add publications to network and add citation edges"
   ]
  }
 ],
 "metadata": {
  "kernelspec": {
   "display_name": "Python 3 (ipykernel)",
   "language": "python",
   "name": "python3"
  },
  "language_info": {
   "codemirror_mode": {
    "name": "ipython",
    "version": 3
   },
   "file_extension": ".py",
   "mimetype": "text/x-python",
   "name": "python",
   "nbconvert_exporter": "python",
   "pygments_lexer": "ipython3",
   "version": "3.10.6"
  }
 },
 "nbformat": 4,
 "nbformat_minor": 5
}
