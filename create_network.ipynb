{
 "cells": [
  {
   "cell_type": "code",
   "execution_count": null,
   "id": "c6cc23e0-bc8f-40ea-8fd7-adf1f1d29da4",
   "metadata": {},
   "outputs": [],
   "source": [
    "# use scopus to get citation data\n",
    "from os.path import isfile\n",
    "\n",
    "key_present = isfile(\"SCOPUS_API_KEY\")\n",
    "\n",
    "if key_present: \n",
    "    print(\"Scopus API key found...\")\n",
    "    with open(\"SCOPUS_API_KEY\", \"r+\") as file:\n",
    "        api_key = file.readline()"
   ]
  },
  {
   "cell_type": "code",
   "execution_count": 1,
   "id": "757ecae2",
   "metadata": {},
   "outputs": [
    {
     "ename": "NameError",
     "evalue": "name 'api_key' is not defined",
     "output_type": "error",
     "traceback": [
      "\u001b[0;31m---------------------------------------------------------------------------\u001b[0m",
      "\u001b[0;31mNameError\u001b[0m                                 Traceback (most recent call last)",
      "Cell \u001b[0;32mIn [1], line 4\u001b[0m\n\u001b[1;32m      1\u001b[0m \u001b[38;5;28;01mfrom\u001b[39;00m \u001b[38;5;21;01melsapy\u001b[39;00m\u001b[38;5;21;01m.\u001b[39;00m\u001b[38;5;21;01melsclient\u001b[39;00m \u001b[38;5;28;01mimport\u001b[39;00m ElsClient\n\u001b[1;32m      3\u001b[0m \u001b[38;5;66;03m# create a client\u001b[39;00m\n\u001b[0;32m----> 4\u001b[0m myCl \u001b[38;5;241m=\u001b[39m ElsClient(\u001b[43mapi_key\u001b[49m)\n",
      "\u001b[0;31mNameError\u001b[0m: name 'api_key' is not defined"
     ]
    }
   ],
   "source": [
    "from elsapy.elsclient import ElsClient\n",
    "\n",
    "# create a client\n",
    "myCl = ElsClient(api_key)"
   ]
  },
  {
   "cell_type": "code",
   "execution_count": null,
   "id": "96590711-1a18-411b-905f-9e3550046ea7",
   "metadata": {},
   "outputs": [],
   "source": [
    "from elsapy.elsdoc import FullDoc\n",
    "# ScienceDirect (full-text) document example using DOI\n",
    "doi_doc = FullDoc(doi = publications[3].doi)\n",
    "if doi_doc.read(myCl):\n",
    "    print (\"doi_doc.title: \", doi_doc.title) \n",
    "else:\n",
    "    print (\"Read document failed.\")"
   ]
  },
  {
   "cell_type": "code",
   "execution_count": null,
   "id": "87cabdab-ff0f-4a35-b466-f15d32f11a2a",
   "metadata": {},
   "outputs": [],
   "source": [
    "doi_doc.data['coredata']['eid']"
   ]
  },
  {
   "cell_type": "code",
   "execution_count": null,
   "id": "d106c4a1-104a-4ae5-850d-06fda7da58ed",
   "metadata": {},
   "outputs": [],
   "source": [
    "abstact = AbsDoc(scp_id=doi_doc.data['coredata']['eid'])\n",
    "doi_doc.read(myCl)"
   ]
  },
  {
   "cell_type": "code",
   "execution_count": null,
   "id": "b8b1251e-33e1-421a-a8fb-53b3768b5c63",
   "metadata": {},
   "outputs": [],
   "source": [
    "doi_doc.data"
   ]
  },
  {
   "cell_type": "code",
   "execution_count": null,
   "id": "fdcf4e14-728e-49b2-a388-1b45c48effb3",
   "metadata": {},
   "outputs": [],
   "source": []
  }
 ],
 "metadata": {
  "kernelspec": {
   "display_name": "Python 3 (ipykernel)",
   "language": "python",
   "name": "python3"
  },
  "language_info": {
   "codemirror_mode": {
    "name": "ipython",
    "version": 3
   },
   "file_extension": ".py",
   "mimetype": "text/x-python",
   "name": "python",
   "nbconvert_exporter": "python",
   "pygments_lexer": "ipython3",
   "version": "3.8.13"
  }
 },
 "nbformat": 4,
 "nbformat_minor": 5
}
